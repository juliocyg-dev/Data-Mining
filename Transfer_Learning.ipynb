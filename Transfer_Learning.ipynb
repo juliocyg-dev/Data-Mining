{
  "nbformat": 4,
  "nbformat_minor": 0,
  "metadata": {
    "colab": {
      "name": "Transfer_Learning.ipynb",
      "version": "0.3.2",
      "provenance": [],
      "collapsed_sections": []
    },
    "kernelspec": {
      "name": "python3",
      "display_name": "Python 3"
    },
    "accelerator": "GPU"
  },
  "cells": [
    {
      "metadata": {
        "id": "4v-XcnUpR1Ex",
        "colab_type": "code",
        "colab": {
          "base_uri": "https://localhost:8080/",
          "height": 35
        },
        "outputId": "455f18a4-023a-436d-eaaa-665bbfafb830"
      },
      "cell_type": "code",
      "source": [
        "from keras.datasets import cifar10\n",
        "from keras.layers import Input, Dense, Conv2D, MaxPool2D, Flatten, Dropout\n",
        "from keras.optimizers import SGD, Adam\n",
        "from keras.models import Model, load_model\n",
        "from keras.callbacks import ModelCheckpoint, EarlyStopping\n",
        "from keras import applications\n",
        "from keras import backend as k\n",
        "import keras\n",
        "import numpy as np\n",
        "from sklearn.utils import shuffle\n",
        "from IPython.display import clear_output\n",
        "import matplotlib.pyplot as plt\n",
        "from keras.preprocessing.image import ImageDataGenerator"
      ],
      "execution_count": 1,
      "outputs": [
        {
          "output_type": "stream",
          "text": [
            "Using TensorFlow backend.\n"
          ],
          "name": "stderr"
        }
      ]
    },
    {
      "metadata": {
        "id": "jyqYW1rftjGm",
        "colab_type": "text"
      },
      "cell_type": "markdown",
      "source": [
        "\n",
        "# Exercise 1: Transfer Learning with VGG16\n",
        "---\n",
        "Loading pre-trained weights"
      ]
    },
    {
      "metadata": {
        "id": "4et6S4z9TCr0",
        "colab_type": "code",
        "colab": {}
      },
      "cell_type": "code",
      "source": [
        "def vgg16_top():\n",
        "  # This will load the whole VGG16 network, including the top Dense layers.\n",
        "  # Note: inlcude the top Dense layer, input tensor shape is forced to be (224, 224, 3)\n",
        "  vgg_model_top = applications.VGG16(weights='imagenet', include_top=True)\n",
        "  vgg_model_top.summary()\n",
        "  return vgg_model_top\n"
      ],
      "execution_count": 0,
      "outputs": []
    },
    {
      "metadata": {
        "id": "HozPA_Msxpfz",
        "colab_type": "code",
        "colab": {
          "base_uri": "https://localhost:8080/",
          "height": 1084
        },
        "outputId": "ffb9e2f4-237d-4070-ff89-245414dd55fa"
      },
      "cell_type": "code",
      "source": [
        "vgg16_top()"
      ],
      "execution_count": 3,
      "outputs": [
        {
          "output_type": "stream",
          "text": [
            "WARNING:tensorflow:From /usr/local/lib/python3.6/dist-packages/tensorflow/python/framework/op_def_library.py:263: colocate_with (from tensorflow.python.framework.ops) is deprecated and will be removed in a future version.\n",
            "Instructions for updating:\n",
            "Colocations handled automatically by placer.\n",
            "_________________________________________________________________\n",
            "Layer (type)                 Output Shape              Param #   \n",
            "=================================================================\n",
            "input_1 (InputLayer)         (None, 224, 224, 3)       0         \n",
            "_________________________________________________________________\n",
            "block1_conv1 (Conv2D)        (None, 224, 224, 64)      1792      \n",
            "_________________________________________________________________\n",
            "block1_conv2 (Conv2D)        (None, 224, 224, 64)      36928     \n",
            "_________________________________________________________________\n",
            "block1_pool (MaxPooling2D)   (None, 112, 112, 64)      0         \n",
            "_________________________________________________________________\n",
            "block2_conv1 (Conv2D)        (None, 112, 112, 128)     73856     \n",
            "_________________________________________________________________\n",
            "block2_conv2 (Conv2D)        (None, 112, 112, 128)     147584    \n",
            "_________________________________________________________________\n",
            "block2_pool (MaxPooling2D)   (None, 56, 56, 128)       0         \n",
            "_________________________________________________________________\n",
            "block3_conv1 (Conv2D)        (None, 56, 56, 256)       295168    \n",
            "_________________________________________________________________\n",
            "block3_conv2 (Conv2D)        (None, 56, 56, 256)       590080    \n",
            "_________________________________________________________________\n",
            "block3_conv3 (Conv2D)        (None, 56, 56, 256)       590080    \n",
            "_________________________________________________________________\n",
            "block3_pool (MaxPooling2D)   (None, 28, 28, 256)       0         \n",
            "_________________________________________________________________\n",
            "block4_conv1 (Conv2D)        (None, 28, 28, 512)       1180160   \n",
            "_________________________________________________________________\n",
            "block4_conv2 (Conv2D)        (None, 28, 28, 512)       2359808   \n",
            "_________________________________________________________________\n",
            "block4_conv3 (Conv2D)        (None, 28, 28, 512)       2359808   \n",
            "_________________________________________________________________\n",
            "block4_pool (MaxPooling2D)   (None, 14, 14, 512)       0         \n",
            "_________________________________________________________________\n",
            "block5_conv1 (Conv2D)        (None, 14, 14, 512)       2359808   \n",
            "_________________________________________________________________\n",
            "block5_conv2 (Conv2D)        (None, 14, 14, 512)       2359808   \n",
            "_________________________________________________________________\n",
            "block5_conv3 (Conv2D)        (None, 14, 14, 512)       2359808   \n",
            "_________________________________________________________________\n",
            "block5_pool (MaxPooling2D)   (None, 7, 7, 512)         0         \n",
            "_________________________________________________________________\n",
            "flatten (Flatten)            (None, 25088)             0         \n",
            "_________________________________________________________________\n",
            "fc1 (Dense)                  (None, 4096)              102764544 \n",
            "_________________________________________________________________\n",
            "fc2 (Dense)                  (None, 4096)              16781312  \n",
            "_________________________________________________________________\n",
            "predictions (Dense)          (None, 1000)              4097000   \n",
            "=================================================================\n",
            "Total params: 138,357,544\n",
            "Trainable params: 138,357,544\n",
            "Non-trainable params: 0\n",
            "_________________________________________________________________\n"
          ],
          "name": "stdout"
        },
        {
          "output_type": "execute_result",
          "data": {
            "text/plain": [
              "<keras.engine.training.Model at 0x7f0fc2e44320>"
            ]
          },
          "metadata": {
            "tags": []
          },
          "execution_count": 3
        }
      ]
    },
    {
      "metadata": {
        "id": "71wRm3tM6_TV",
        "colab_type": "code",
        "colab": {}
      },
      "cell_type": "code",
      "source": [
        "def vgg16_conv():\n",
        "  # Not loaded the last two fully connected layers which act as the classifier. \n",
        "  # We are just loading the convolutional layers. Note: not specifying the shape of top layers, \n",
        "  # the input tensor shape is (None, None, 3),so you can use them for any size of images.\n",
        "  # Specify input tensor,\n",
        "  input_tensor = Input(shape=(32, 32, 3))\n",
        "  vgg_model_conv = applications.VGG16(weights='imagenet',\n",
        "                                      include_top=False,\n",
        "                                      input_tensor=input_tensor)\n",
        "\n",
        " \n",
        "  return vgg_model_conv\n"
      ],
      "execution_count": 0,
      "outputs": []
    },
    {
      "metadata": {
        "id": "8kTeOusxxv1v",
        "colab_type": "code",
        "colab": {
          "base_uri": "https://localhost:8080/",
          "height": 844
        },
        "outputId": "7912873c-b111-4ada-c2fe-8882d228dfb1"
      },
      "cell_type": "code",
      "source": [
        "net = vgg16_conv()\n",
        "net.summary()"
      ],
      "execution_count": 5,
      "outputs": [
        {
          "output_type": "stream",
          "text": [
            "_________________________________________________________________\n",
            "Layer (type)                 Output Shape              Param #   \n",
            "=================================================================\n",
            "input_2 (InputLayer)         (None, 32, 32, 3)         0         \n",
            "_________________________________________________________________\n",
            "block1_conv1 (Conv2D)        (None, 32, 32, 64)        1792      \n",
            "_________________________________________________________________\n",
            "block1_conv2 (Conv2D)        (None, 32, 32, 64)        36928     \n",
            "_________________________________________________________________\n",
            "block1_pool (MaxPooling2D)   (None, 16, 16, 64)        0         \n",
            "_________________________________________________________________\n",
            "block2_conv1 (Conv2D)        (None, 16, 16, 128)       73856     \n",
            "_________________________________________________________________\n",
            "block2_conv2 (Conv2D)        (None, 16, 16, 128)       147584    \n",
            "_________________________________________________________________\n",
            "block2_pool (MaxPooling2D)   (None, 8, 8, 128)         0         \n",
            "_________________________________________________________________\n",
            "block3_conv1 (Conv2D)        (None, 8, 8, 256)         295168    \n",
            "_________________________________________________________________\n",
            "block3_conv2 (Conv2D)        (None, 8, 8, 256)         590080    \n",
            "_________________________________________________________________\n",
            "block3_conv3 (Conv2D)        (None, 8, 8, 256)         590080    \n",
            "_________________________________________________________________\n",
            "block3_pool (MaxPooling2D)   (None, 4, 4, 256)         0         \n",
            "_________________________________________________________________\n",
            "block4_conv1 (Conv2D)        (None, 4, 4, 512)         1180160   \n",
            "_________________________________________________________________\n",
            "block4_conv2 (Conv2D)        (None, 4, 4, 512)         2359808   \n",
            "_________________________________________________________________\n",
            "block4_conv3 (Conv2D)        (None, 4, 4, 512)         2359808   \n",
            "_________________________________________________________________\n",
            "block4_pool (MaxPooling2D)   (None, 2, 2, 512)         0         \n",
            "_________________________________________________________________\n",
            "block5_conv1 (Conv2D)        (None, 2, 2, 512)         2359808   \n",
            "_________________________________________________________________\n",
            "block5_conv2 (Conv2D)        (None, 2, 2, 512)         2359808   \n",
            "_________________________________________________________________\n",
            "block5_conv3 (Conv2D)        (None, 2, 2, 512)         2359808   \n",
            "_________________________________________________________________\n",
            "block5_pool (MaxPooling2D)   (None, 1, 1, 512)         0         \n",
            "=================================================================\n",
            "Total params: 14,714,688\n",
            "Trainable params: 14,714,688\n",
            "Non-trainable params: 0\n",
            "_________________________________________________________________\n"
          ],
          "name": "stdout"
        }
      ]
    },
    {
      "metadata": {
        "id": "AboOJnZhcPgW",
        "colab_type": "text"
      },
      "cell_type": "markdown",
      "source": [
        "---\n",
        "Create a new network with bottom layers taken from VGG"
      ]
    },
    {
      "metadata": {
        "id": "gu6OZABEcLAt",
        "colab_type": "code",
        "colab": {}
      },
      "cell_type": "code",
      "source": [
        "def create_custom_model(net):\n",
        "\n",
        "  # Creating dictionary that maps layer names to the layers\n",
        "  layer_dict = dict([(layer.name, layer) for layer in net.layers])\n",
        "\n",
        "  # Getting output tensor of the last VGG layer that we want to include\n",
        "  x = layer_dict['block4_pool'].output\n",
        "\n",
        "  \n",
        "  x = Flatten()(x)\n",
        "  x = Dense(64, activation='relu')(x)\n",
        "  x = Dropout(0.5)(x)\n",
        "  x = Dense(10, activation='softmax')(x)\n",
        "\n",
        "  custom_model = Model(net.input,x)\n",
        "\n",
        "  # Froze layers\n",
        "  for layer in custom_model.layers[:14]:\n",
        "    layer.trainable = False\n",
        "\n",
        "  # Compile it\n",
        "  custom_model.compile(loss='binary_crossentropy',\n",
        "                       optimizer='rmsprop',\n",
        "                       metrics=['accuracy'])\n",
        "\n",
        "  return custom_model"
      ],
      "execution_count": 0,
      "outputs": []
    },
    {
      "metadata": {
        "id": "TCpPV2Z6cz-W",
        "colab_type": "text"
      },
      "cell_type": "markdown",
      "source": [
        "---\n",
        "Train network and get train history"
      ]
    },
    {
      "metadata": {
        "id": "PsUXDHdZjM7b",
        "colab_type": "code",
        "colab": {}
      },
      "cell_type": "code",
      "source": [
        "def show_result(acc, val_acc, loss, val_loss):\n",
        "    plt.rcParams['axes.facecolor']='white'\n",
        "    f, axarr = plt.subplots(1 , 2)\n",
        "    f.set_figwidth(10)\n",
        "\n",
        "    # Accuracy\n",
        "    axarr[0].plot(acc)\n",
        "    axarr[0].plot(val_acc)\n",
        "    axarr[0].set_title('model accuracy')\n",
        "    axarr[0].set_ylabel('accuracy')\n",
        "    axarr[0].set_xlabel('epoch')\n",
        "    axarr[0].legend(['train', 'valid'], loc='upper left')\n",
        "\n",
        "    # Loss\n",
        "    axarr[1].plot(loss)\n",
        "    axarr[1].plot(val_loss)\n",
        "    axarr[1].set_title('model loss')\n",
        "    axarr[1].set_ylabel('loss')\n",
        "    axarr[1].set_xlabel('epoch')\n",
        "    axarr[1].legend(['train', 'valid'], loc='upper left')\n",
        "    \n",
        "    plt.show()"
      ],
      "execution_count": 0,
      "outputs": []
    },
    {
      "metadata": {
        "id": "bx7FT1H4XZ2j",
        "colab_type": "code",
        "colab": {}
      },
      "cell_type": "code",
      "source": [
        "def Train(net, x_train, y_train_h, x_test, y_test_h, batch_size, epochs,data_augmentation = False): \n",
        "\n",
        "    print('Start the training')\n",
        "    file_name = 'best_model.h5'\n",
        "    checkpointer = ModelCheckpoint(file_name, monitor='val_acc', save_best_only=True)\n",
        "    early_stop = EarlyStopping(monitor = 'val_acc', min_delta = 0.001, \n",
        "                               mode = 'max', patience = 5)\n",
        "    \n",
        "    if data_augmentation :\n",
        "      print(\"-------------Using Data augmentation------------\")\n",
        "      # This will do realtime data augmentation:\n",
        "      datagen = ImageDataGenerator(\n",
        "          fill_mode = \"nearest\",\n",
        "          zoom_range = 0.1,\n",
        "          rotation_range=30,                    \n",
        "          width_shift_range=0.1,               \n",
        "          height_shift_range=0.1,              \n",
        "          horizontal_flip=True,                \n",
        "          vertical_flip=True)                 \n",
        "\n",
        "      datagen.fit(x_train)\n",
        "      history = net.fit_generator(datagen.flow(x_train, y_train_h, batch_size=batch_size),\n",
        "                          steps_per_epoch=x_train.shape[0]//batch_size,\n",
        "                          epochs=epochs,\n",
        "                          verbose=1,\n",
        "                          validation_data=[x_test,y_test_h],\n",
        "                          callbacks=[early_stop,checkpointer])\n",
        "\n",
        "    else :\n",
        "      print(\"-----Not Using Data augmentation---------------\")\n",
        "      history = net.fit(x_train, y_train_h,\n",
        "                    batch_size=batch_size,\n",
        "                    epochs=epochs,\n",
        "                    verbose=1,\n",
        "                    validation_data = [x_test,y_test_h],\n",
        "                    callbacks=[early_stop,checkpointer])\n",
        "\n",
        "      \n",
        "    show_result(history.history['acc'], \n",
        "                history.history['val_acc'],\n",
        "                history.history['loss'],\n",
        "                history.history['val_loss'])\n",
        "\n",
        "    del net\n",
        "    net = load_model(file_name)\n",
        "    \n",
        "    loss_ts = net.evaluate(x_test, y_test_h, verbose=1)\n",
        "   \n",
        "    print(\"[Test loss: %f , Test acc.:%.2f%%]\" %(loss_ts[0] , 100 * loss_ts[1])) \n",
        "    "
      ],
      "execution_count": 0,
      "outputs": []
    },
    {
      "metadata": {
        "id": "52Rf32y1V3d-",
        "colab_type": "code",
        "colab": {
          "base_uri": "https://localhost:8080/",
          "height": 1968
        },
        "outputId": "8240142c-0d22-4750-98e6-733fbfa2ee9b"
      },
      "cell_type": "code",
      "source": [
        "if __name__=='__main__':\n",
        "  \n",
        "  #Loading the data set\n",
        "  (x_train , y_train) , (x_test , y_test) = cifar10.load_data()\n",
        "  \n",
        "  #Normalizing the set\n",
        "  x_train = x_train.astype('float32')/255.\n",
        "  x_test = x_test.astype('float32')/255.\n",
        "  \n",
        "  \n",
        "  #Performing hot encoding\n",
        "  y_train_h = keras.utils.to_categorical(y_train , 10)\n",
        "  y_test_h = keras.utils.to_categorical(y_test , 10)\n",
        "  \n",
        "  \n",
        "  # Change here\n",
        "  #lr = 10**(np.random.uniform(-5,5))\n",
        "  lr = 1e-3\n",
        "  batch_size = 128\n",
        "  epochs = 30\n",
        "  adam = Adam(lr = lr)\n",
        "  \n",
        "  # Define VGG16 with pretained weights\n",
        "  net = vgg16_conv()\n",
        "  \n",
        "  # create custom model \n",
        "  custom_model = create_custom_model(net)\n",
        "  custom_model.summary()\n",
        "  \n",
        "  # tarin network\n",
        "  Train(custom_model, x_train, y_train_h, x_test, y_test_h, batch_size, epochs)"
      ],
      "execution_count": 9,
      "outputs": [
        {
          "output_type": "stream",
          "text": [
            "WARNING:tensorflow:From /usr/local/lib/python3.6/dist-packages/keras/backend/tensorflow_backend.py:3445: calling dropout (from tensorflow.python.ops.nn_ops) with keep_prob is deprecated and will be removed in a future version.\n",
            "Instructions for updating:\n",
            "Please use `rate` instead of `keep_prob`. Rate should be set to `rate = 1 - keep_prob`.\n",
            "_________________________________________________________________\n",
            "Layer (type)                 Output Shape              Param #   \n",
            "=================================================================\n",
            "input_3 (InputLayer)         (None, 32, 32, 3)         0         \n",
            "_________________________________________________________________\n",
            "block1_conv1 (Conv2D)        (None, 32, 32, 64)        1792      \n",
            "_________________________________________________________________\n",
            "block1_conv2 (Conv2D)        (None, 32, 32, 64)        36928     \n",
            "_________________________________________________________________\n",
            "block1_pool (MaxPooling2D)   (None, 16, 16, 64)        0         \n",
            "_________________________________________________________________\n",
            "block2_conv1 (Conv2D)        (None, 16, 16, 128)       73856     \n",
            "_________________________________________________________________\n",
            "block2_conv2 (Conv2D)        (None, 16, 16, 128)       147584    \n",
            "_________________________________________________________________\n",
            "block2_pool (MaxPooling2D)   (None, 8, 8, 128)         0         \n",
            "_________________________________________________________________\n",
            "block3_conv1 (Conv2D)        (None, 8, 8, 256)         295168    \n",
            "_________________________________________________________________\n",
            "block3_conv2 (Conv2D)        (None, 8, 8, 256)         590080    \n",
            "_________________________________________________________________\n",
            "block3_conv3 (Conv2D)        (None, 8, 8, 256)         590080    \n",
            "_________________________________________________________________\n",
            "block3_pool (MaxPooling2D)   (None, 4, 4, 256)         0         \n",
            "_________________________________________________________________\n",
            "block4_conv1 (Conv2D)        (None, 4, 4, 512)         1180160   \n",
            "_________________________________________________________________\n",
            "block4_conv2 (Conv2D)        (None, 4, 4, 512)         2359808   \n",
            "_________________________________________________________________\n",
            "block4_conv3 (Conv2D)        (None, 4, 4, 512)         2359808   \n",
            "_________________________________________________________________\n",
            "block4_pool (MaxPooling2D)   (None, 2, 2, 512)         0         \n",
            "_________________________________________________________________\n",
            "flatten_1 (Flatten)          (None, 2048)              0         \n",
            "_________________________________________________________________\n",
            "dense_1 (Dense)              (None, 64)                131136    \n",
            "_________________________________________________________________\n",
            "dropout_1 (Dropout)          (None, 64)                0         \n",
            "_________________________________________________________________\n",
            "dense_2 (Dense)              (None, 10)                650       \n",
            "=================================================================\n",
            "Total params: 7,767,050\n",
            "Trainable params: 131,786\n",
            "Non-trainable params: 7,635,264\n",
            "_________________________________________________________________\n",
            "Start the training\n",
            "-----Not Using Data augmentation---------------\n",
            "WARNING:tensorflow:From /usr/local/lib/python3.6/dist-packages/tensorflow/python/ops/math_ops.py:3066: to_int32 (from tensorflow.python.ops.math_ops) is deprecated and will be removed in a future version.\n",
            "Instructions for updating:\n",
            "Use tf.cast instead.\n",
            "Train on 50000 samples, validate on 10000 samples\n",
            "Epoch 1/30\n",
            "50000/50000 [==============================] - 19s 370us/step - loss: 0.2764 - acc: 0.9087 - val_loss: 0.1980 - val_acc: 0.9270\n",
            "Epoch 2/30\n",
            "50000/50000 [==============================] - 16s 328us/step - loss: 0.2215 - acc: 0.9191 - val_loss: 0.1677 - val_acc: 0.9364\n",
            "Epoch 3/30\n",
            "50000/50000 [==============================] - 16s 320us/step - loss: 0.2064 - acc: 0.9235 - val_loss: 0.1619 - val_acc: 0.9389\n",
            "Epoch 4/30\n",
            "50000/50000 [==============================] - 16s 321us/step - loss: 0.1976 - acc: 0.9266 - val_loss: 0.1529 - val_acc: 0.9429\n",
            "Epoch 5/30\n",
            "50000/50000 [==============================] - 16s 320us/step - loss: 0.1916 - acc: 0.9288 - val_loss: 0.1582 - val_acc: 0.9401\n",
            "Epoch 6/30\n",
            "50000/50000 [==============================] - 16s 319us/step - loss: 0.1878 - acc: 0.9302 - val_loss: 0.1570 - val_acc: 0.9404\n",
            "Epoch 7/30\n",
            "50000/50000 [==============================] - 16s 319us/step - loss: 0.1844 - acc: 0.9318 - val_loss: 0.1670 - val_acc: 0.9383\n",
            "Epoch 8/30\n",
            "50000/50000 [==============================] - 16s 319us/step - loss: 0.1818 - acc: 0.9329 - val_loss: 0.1553 - val_acc: 0.9422\n",
            "Epoch 9/30\n",
            "50000/50000 [==============================] - 16s 319us/step - loss: 0.1802 - acc: 0.9336 - val_loss: 0.1492 - val_acc: 0.9442\n",
            "Epoch 10/30\n",
            "50000/50000 [==============================] - 16s 321us/step - loss: 0.1782 - acc: 0.9340 - val_loss: 0.1498 - val_acc: 0.9443\n",
            "Epoch 11/30\n",
            "50000/50000 [==============================] - 16s 320us/step - loss: 0.1760 - acc: 0.9351 - val_loss: 0.1535 - val_acc: 0.9417\n",
            "Epoch 12/30\n",
            "50000/50000 [==============================] - 16s 319us/step - loss: 0.1753 - acc: 0.9354 - val_loss: 0.1451 - val_acc: 0.9461\n",
            "Epoch 13/30\n",
            "50000/50000 [==============================] - 16s 323us/step - loss: 0.1738 - acc: 0.9358 - val_loss: 0.1474 - val_acc: 0.9454\n",
            "Epoch 14/30\n",
            "50000/50000 [==============================] - 16s 322us/step - loss: 0.1731 - acc: 0.9365 - val_loss: 0.1473 - val_acc: 0.9458\n",
            "Epoch 15/30\n",
            "50000/50000 [==============================] - 16s 325us/step - loss: 0.1713 - acc: 0.9373 - val_loss: 0.1492 - val_acc: 0.9449\n",
            "Epoch 16/30\n",
            "50000/50000 [==============================] - 16s 327us/step - loss: 0.1699 - acc: 0.9378 - val_loss: 0.1474 - val_acc: 0.9464\n",
            "Epoch 17/30\n",
            "50000/50000 [==============================] - 16s 326us/step - loss: 0.1693 - acc: 0.9379 - val_loss: 0.1491 - val_acc: 0.9454\n"
          ],
          "name": "stdout"
        },
        {
          "output_type": "display_data",
          "data": {
            "image/png": "[encoded data removed]",
            "text/plain": [
              "<Figure size 720x288 with 2 Axes>"
            ]
          },
          "metadata": {
            "tags": []
          }
        },
        {
          "output_type": "stream",
          "text": [
            "10000/10000 [==============================] - 5s 468us/step\n",
            "[Test loss: 0.147356 , Test acc.:94.64%]\n"
          ],
          "name": "stdout"
        }
      ]
    },
    {
      "metadata": {
        "id": "UJ2UaT05uE6i",
        "colab_type": "text"
      },
      "cell_type": "markdown",
      "source": [
        "\n",
        "---\n",
        "Observe the network performance for different configurations:\n",
        "1. Use pre-trained bottom layers of VGG up to layer name  (VGG_LN)\n",
        "2. Data Augmentation (DA)\n",
        "4. Earley stop patience (ESP)\n",
        "\n",
        "\n",
        "Experiments | VGG_LN | DA | ESP | \n",
        "--- |---\n",
        "Default |  **'block4_pool'**  |  **False**   |  **5**   |\n",
        "Conf_1 |                -              |            -              |          -            |        \n",
        "Conf_2 |                -              |            -              |          -            |        \n",
        "Conf_3 |                -              |            -              |          -            |         \n"
      ]
    }
  ]
}