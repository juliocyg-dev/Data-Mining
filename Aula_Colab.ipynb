{
  "nbformat": 4,
  "nbformat_minor": 0,
  "metadata": {
    "colab": {
      "name": "Aula_Colab.ipynb",
      "version": "0.3.2",
      "provenance": [],
      "collapsed_sections": [],
      "include_colab_link": true
    },
    "kernelspec": {
      "name": "python3",
      "display_name": "Python 3"
    },
    "accelerator": "GPU"
  },
  "cells": [
    {
      "cell_type": "markdown",
      "metadata": {
        "id": "view-in-github",
        "colab_type": "text"
      },
      "source": [
        "<a href=\"https://colab.research.google.com/github/juliocyg-dev/Data-Mining/blob/master/Aula_Colab.ipynb\" target=\"_parent\"><img src=\"https://colab.research.google.com/assets/colab-badge.svg\" alt=\"Open In Colab\"/></a>"
      ]
    },
    {
      "cell_type": "code",
      "metadata": {
        "id": "4_9Hs7FlIhtQ",
        "colab_type": "code",
        "outputId": "00c0c920-c058-48e8-ec9c-1da51994b08d",
        "colab": {
          "base_uri": "https://localhost:8080/",
          "height": 35
        }
      },
      "source": [
        "import numpy as np\n",
        "from keras.datasets import mnist\n",
        "import matplotlib.pyplot as plt\n",
        "from sklearn.neural_network import MLPClassifier"
      ],
      "execution_count": 1,
      "outputs": [
        {
          "output_type": "stream",
          "text": [
            "Using TensorFlow backend.\n"
          ],
          "name": "stderr"
        }
      ]
    },
    {
      "cell_type": "markdown",
      "metadata": {
        "id": "WwjH1PLuYAiy",
        "colab_type": "text"
      },
      "source": [
        "**Loading and visualizing the Dataset**"
      ]
    },
    {
      "cell_type": "code",
      "metadata": {
        "id": "1ZD4yQUyTPOs",
        "colab_type": "code",
        "outputId": "b856b9e4-163d-4693-cf14-99d64fb58b49",
        "colab": {
          "base_uri": "https://localhost:8080/",
          "height": 558
        }
      },
      "source": [
        "(x_train,y_train), (x_test,y_test)= mnist.load_data()\n",
        "for i in range(2):\n",
        "    img = x_train[i,:,:]\n",
        "    plt.imshow(img, cmap=\"Greys\")\n",
        "    plt.show()"
      ],
      "execution_count": 2,
      "outputs": [
        {
          "output_type": "stream",
          "text": [
            "Downloading data from https://s3.amazonaws.com/img-datasets/mnist.npz\n",
            "11493376/11490434 [==============================] - 0s 0us/step\n"
          ],
          "name": "stdout"
        },
        {
          "output_type": "display_data",
          "data": {
            "image/png": "[encoded data removed]",
            "text/plain": [
              "<Figure size 432x288 with 1 Axes>"
            ]
          },
          "metadata": {
            "tags": []
          }
        },
        {
          "output_type": "display_data",
          "data": {
            "image/png": "[encoded data removed]",
            "text/plain": [
              "<Figure size 432x288 with 1 Axes>"
            ]
          },
          "metadata": {
            "tags": []
          }
        }
      ]
    },
    {
      "cell_type": "markdown",
      "metadata": {
        "id": "F9svXpoiYuS_",
        "colab_type": "text"
      },
      "source": [
        "**Normalizing and pre-processing the data **"
      ]
    },
    {
      "cell_type": "code",
      "metadata": {
        "id": "hZpPXoEaTVGL",
        "colab_type": "code",
        "colab": {}
      },
      "source": [
        "x_train = np.reshape(x_train, (-1, 784))\n",
        "x_test = np.reshape(x_test, (-1, 784))\n",
        "\n",
        "x_train = x_train.astype('float32')\n",
        "x_test = x_test.astype('float32')\n",
        "x_train= x_train/255.\n",
        "x_test = x_test/255."
      ],
      "execution_count": 0,
      "outputs": []
    },
    {
      "cell_type": "markdown",
      "metadata": {
        "id": "0Ed7I9PsY8YL",
        "colab_type": "text"
      },
      "source": [
        "**Defining the architecture of the network and the principal hyperparameters**"
      ]
    },
    {
      "cell_type": "code",
      "metadata": {
        "id": "H4iD2aOKUj-E",
        "colab_type": "code",
        "colab": {}
      },
      "source": [
        "mlp = MLPClassifier(activation='relu',hidden_layer_sizes=(100,), max_iter=20, alpha=1e-4,learning_rate='constant',\n",
        "                    solver='sgd', verbose=10, tol=1e-4, random_state=1,\n",
        "                    learning_rate_init=1e-2)"
      ],
      "execution_count": 0,
      "outputs": []
    },
    {
      "cell_type": "markdown",
      "metadata": {
        "id": "WQH8eNI4aAN7",
        "colab_type": "text"
      },
      "source": [
        " **Training the network!!!**"
      ]
    },
    {
      "cell_type": "code",
      "metadata": {
        "id": "g_0_GnWdU3Jf",
        "colab_type": "code",
        "outputId": "3d3d1632-b7f4-4a1c-9ace-fc5578ce01f1",
        "colab": {
          "base_uri": "https://localhost:8080/",
          "height": 219
        }
      },
      "source": [
        "mlp.fit(x_train, y_train)"
      ],
      "execution_count": 0,
      "outputs": [
        {
          "output_type": "stream",
          "text": [
            "Iteration 1, loss = 0.59042051\n",
            "Iteration 2, loss = 0.30282544\n",
            "Iteration 3, loss = 0.25548834\n",
            "Iteration 4, loss = 0.22308068\n",
            "Iteration 5, loss = 0.19802797\n",
            "Iteration 6, loss = 0.17806355\n",
            "Iteration 7, loss = 0.16195242\n",
            "Iteration 8, loss = 0.14815033\n",
            "Iteration 9, loss = 0.13699550\n",
            "Iteration 10, loss = 0.12714066\n",
            "Iteration 11, loss = 0.11898362\n"
          ],
          "name": "stdout"
        }
      ]
    },
    {
      "cell_type": "markdown",
      "metadata": {
        "id": "jI4AsFi7-eGZ",
        "colab_type": "text"
      },
      "source": [
        "**Accuracy  calculation**"
      ]
    },
    {
      "cell_type": "code",
      "metadata": {
        "id": "ceUjNfXZVczL",
        "colab_type": "code",
        "colab": {}
      },
      "source": [
        "print(\"Training set score: %f\" % mlp.score(x_train, y_train))\n",
        "print(\"Test set score: %f\" % mlp.score(x_test, y_test))"
      ],
      "execution_count": 0,
      "outputs": []
    },
    {
      "cell_type": "markdown",
      "metadata": {
        "id": "3QX3MI9g8wmw",
        "colab_type": "text"
      },
      "source": [
        "\n",
        "# Exercise\n",
        "---\n",
        "Evaluate the network performance in terms of accuracy in relation to the change of:\n",
        "1. Learning rate\n",
        "2. Activation function\n",
        "3. Number of hidden layers\n",
        "\n",
        "\n",
        "Learning rate: 0.01|\n",
        "--- |---\n",
        "                                            | **Hidden layers** |||||| \n",
        "**Activation functions**|       **1 (100)**    |    **2 (50)**     |||| ** 3 (30)**  |\n",
        "Sigmoid                             |                -              |            -              ||||          -           |\n",
        "ReLU                                  |                -              |            -              ||||          -            |\n",
        "\n",
        "\n",
        "\n",
        "Learning rate: 0.0001|\n",
        "--- |---\n",
        "                                            | **Hidden layers** |||||| \n",
        "**Activation functions**|       **1 (100)**    |    **2 (50)**     |||| ** 3 (30)**  |\n",
        "Sigmoid                             |                -              |            -               ||||          -          |\n",
        "ReLU                                  |                -               |            -               ||||          -          |\n"
      ]
    }
  ]
}